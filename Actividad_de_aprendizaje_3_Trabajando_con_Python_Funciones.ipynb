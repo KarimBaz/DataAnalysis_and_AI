{
  "nbformat": 4,
  "nbformat_minor": 0,
  "metadata": {
    "colab": {
      "provenance": [],
      "toc_visible": true,
      "authorship_tag": "ABX9TyNZrlkYIWeyQZje73sILjTx",
      "include_colab_link": true
    },
    "kernelspec": {
      "name": "python3",
      "display_name": "Python 3"
    },
    "language_info": {
      "name": "python"
    }
  },
  "cells": [
    {
      "cell_type": "markdown",
      "metadata": {
        "id": "view-in-github",
        "colab_type": "text"
      },
      "source": [
        "<a href=\"https://colab.research.google.com/github/magotronico/DataAnalysis_and_AI/blob/main/Actividad_de_aprendizaje_3_Trabajando_con_Python_Funciones.ipynb\" target=\"_parent\"><img src=\"https://colab.research.google.com/assets/colab-badge.svg\" alt=\"Open In Colab\"/></a>"
      ]
    },
    {
      "cell_type": "markdown",
      "source": [
        "# Actividad de aprendizaje 3: Trabajando con Python. Funciones\n",
        "Dilan González Castañeda A00831905\n"
      ],
      "metadata": {
        "id": "BfRSozuqaEKR"
      }
    },
    {
      "cell_type": "markdown",
      "source": [
        "## Problema 0\n",
        "\n",
        "Escribir una función que calcule el total de una factura tras aplicarle el IVA. La función debe recibir la cantidad sin IVA y el porcentaje de IVA a aplicar, y devolver el total de la factura. Si se invoca la función sin pasarle el porcentaje de IVA, deberá aplicar un 21%.\n",
        "\n"
      ],
      "metadata": {
        "id": "1OjZLGTXZpnm"
      }
    },
    {
      "cell_type": "code",
      "execution_count": null,
      "metadata": {
        "id": "bluZ1GixZoKu"
      },
      "outputs": [],
      "source": []
    },
    {
      "cell_type": "markdown",
      "source": [
        "## Problema 1\n",
        "1. Escribir una función que reciba una muestra de números en una lista y devuelva un diccionario con su media, varianza y desviación típica."
      ],
      "metadata": {
        "id": "RdjhOQbVZvni"
      }
    },
    {
      "cell_type": "code",
      "source": [],
      "metadata": {
        "id": "ZBxRMfDnaKhS"
      },
      "execution_count": null,
      "outputs": []
    },
    {
      "cell_type": "markdown",
      "source": [
        "## Problema 2\n",
        "Definir una función que calcule la longitud de una lista o una cadena dada. (Es cierto que python tiene la función len() incorporada, pero escribirla por nosotros mismos resulta un muy buen ejercicio."
      ],
      "metadata": {
        "id": "-ebYBSW0ZyR_"
      }
    },
    {
      "cell_type": "code",
      "source": [],
      "metadata": {
        "id": "E7NimOCKaK71"
      },
      "execution_count": null,
      "outputs": []
    },
    {
      "cell_type": "markdown",
      "source": [
        "## Problema 3\n",
        "Escribir un programa que reciba una cadena de caracteres y devuelva un diccionario con cada palabra que contiene y su frecuencia. Escribir otra función que reciba el diccionario generado con la función anterior y devuelva una tupla con la palabra más repetida y su frecuencia."
      ],
      "metadata": {
        "id": "YnkfkhssZ397"
      }
    },
    {
      "cell_type": "code",
      "source": [],
      "metadata": {
        "id": "v1w-rQglaLSN"
      },
      "execution_count": null,
      "outputs": []
    },
    {
      "cell_type": "markdown",
      "source": [
        "## Problema 4\n",
        "Crea una función llamada es_primo que determine si un número es primo. La función debe recibir un número entero como parámetro y devolver True si el número es primo, o False en caso contrario"
      ],
      "metadata": {
        "id": "jJVNOVJLZ7q6"
      }
    },
    {
      "cell_type": "code",
      "source": [],
      "metadata": {
        "id": "0cDcM3ftaLte"
      },
      "execution_count": null,
      "outputs": []
    },
    {
      "cell_type": "markdown",
      "source": [
        "## Problema 5\n",
        "Escribe una función llamada convertir_temperatura que convierta temperaturas de grados Celsius a grados Fahrenheit. La función debe recibir un parámetro, la temperatura en Celsius, y devolver la temperatura equivalente en Fahrenheit."
      ],
      "metadata": {
        "id": "MtOV-wfsZ-1Y"
      }
    },
    {
      "cell_type": "code",
      "source": [],
      "metadata": {
        "id": "Mnppg3oaaMIv"
      },
      "execution_count": null,
      "outputs": []
    }
  ]
}