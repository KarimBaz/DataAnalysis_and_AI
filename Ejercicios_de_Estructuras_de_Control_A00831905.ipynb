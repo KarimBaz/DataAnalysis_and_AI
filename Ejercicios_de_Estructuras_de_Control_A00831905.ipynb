{
  "nbformat": 4,
  "nbformat_minor": 0,
  "metadata": {
    "colab": {
      "provenance": [],
      "include_colab_link": true
    },
    "kernelspec": {
      "name": "python3",
      "display_name": "Python 3"
    },
    "language_info": {
      "name": "python"
    }
  },
  "cells": [
    {
      "cell_type": "markdown",
      "metadata": {
        "id": "view-in-github",
        "colab_type": "text"
      },
      "source": [
        "<a href=\"https://colab.research.google.com/github/magotronico/DataAnalysis_and_AI/blob/main/Ejercicios_de_Estructuras_de_Control_A00831905.ipynb\" target=\"_parent\"><img src=\"https://colab.research.google.com/assets/colab-badge.svg\" alt=\"Open In Colab\"/></a>"
      ]
    },
    {
      "cell_type": "markdown",
      "source": [
        "#Problema de Robots\n",
        "Este problema es un pseudo código para que un robot pueda llegar a su objetivo.\n",
        "\n",
        "Te dice cuantos movimientos debe de hacer para cumplir con su tarea.\n",
        "\n",
        "Los robots seran omnidireccionales por lo que la orientación no importa en este caso.\n",
        "\n",
        "Se usará PEP 8 y PEP 484 como estándandares de programación. Programación Orientada a Objetos con finalidad de demostrar los conceptos de Asignación.\n",
        "\n",
        "---\n",
        "\n",
        "Las variables dummy son:\n",
        "* **pos0:** posición inicial del robot de donde comenzará a moverse. list[int]->[x,y]\n",
        "* **target:** posición final del robot a la que debe de llegar. list[int]->[x,y]\n",
        "\n"
      ],
      "metadata": {
        "id": "DqWrDCEgedZl"
      }
    },
    {
      "cell_type": "code",
      "source": [
        "class Robot():\n",
        "  def __init__(self, pos: tuple[int, int], target: tuple[int, int] = None) -> None:\n",
        "    self.x, self.y = pos  # Position in X and Y\n",
        "    self.moves = []  # List of moves\n",
        "    self.target_x, self.target_y = target\n",
        "\n",
        "  def target(self, target: tuple[int, int]) -> None:\n",
        "    self.target_x, self.target_y = target\n",
        "\n",
        "  def _add_move(self, move: str) -> None:\n",
        "    self.moves.append(move)\n",
        "\n",
        "  def move_up(self) -> None:\n",
        "    self.y =  self.y + 1\n",
        "\n",
        "  def move_down(self) -> None:\n",
        "    self.y -= 1\n",
        "\n",
        "  def move_left(self) -> None:\n",
        "    self.x -= 1\n",
        "\n",
        "  def move_right(self) -> None:\n",
        "    self.x += 1\n",
        "\n",
        "  def solvePath(self) -> None:\n",
        "    targetFound = False\n",
        "\n",
        "    while targetFound != True:\n",
        "      if self.x > self.target_x:\n",
        "        self.move_left()\n",
        "        self._add_move(\"left\")\n",
        "      elif self.x < self.target_x:\n",
        "        self.move_right()\n",
        "        self._add_move(\"right\")\n",
        "      elif self.y > self.target_y:\n",
        "        self.move_down()\n",
        "        self._add_move(\"down\")\n",
        "      elif self.y < self.target_y:\n",
        "        self.move_up()\n",
        "        self._add_move(\"up\")\n",
        "      else:\n",
        "        targetFound = True\n",
        "\n",
        "    return self.moves\n",
        "\n",
        "\n",
        "if __name__ == \"__main__\":\n",
        "  # Iniciar variables\n",
        "  pos = (0,0)\n",
        "  target = (0,0)\n",
        "\n",
        "  # Solicitar posición inicial y target\n",
        "  pos = tuple(int(input(f\"Enter position in {'X' if i == 0 else 'Y'}: \")) for i in range(2))\n",
        "  target = tuple(int(input(f\"Enter target in {'X' if i == 0 else 'Y'}: \")) for i in range(2))\n",
        "\n",
        "\n",
        "  if pos and target: # if con tuplas\n",
        "    # Create instance of Robot class\n",
        "    robot0 = Robot(pos, target)\n",
        "\n",
        "    # Solución del problema\n",
        "    solution = robot0.solvePath()\n",
        "\n",
        "    # Procesamiento para imprimir la solución\n",
        "    movesInSolution = {\"up\": 0, \"down\": 0, \"left\": 0, \"right\": 0} # Diccionario que cuenta los movimientos en cada dirección\n",
        "    totalMoves = len(solution)\n",
        "\n",
        "    for move in solution: # for con lista\n",
        "      movesInSolution[move] += 1\n",
        "\n",
        "    vector_desplazamiento = (target[0] - pos[0], target[1] - pos[1] ) # Desplazamiento entre posición inicial y final\n",
        "\n",
        "    #Imprimir la solución\n",
        "    print(f\"\\nEl robot encontró su objetivo en {totalMoves} movimientos. Y tuvo un desplazamiento de {vector_desplazamiento}.\\nMoves:\")\n",
        "\n",
        "    for move in movesInSolution: # for con diccionario\n",
        "      print(f\"{move}: {movesInSolution[move]}\")"
      ],
      "metadata": {
        "colab": {
          "base_uri": "https://localhost:8080/"
        },
        "id": "KqTjMIqfe9_v",
        "outputId": "92a4662d-bbfe-4608-ef7f-296025b9f968"
      },
      "execution_count": 11,
      "outputs": [
        {
          "output_type": "stream",
          "name": "stdout",
          "text": [
            "Enter position in X: 3\n",
            "Enter position in Y: 3\n",
            "Enter target in X: 6\n",
            "Enter target in Y: 6\n",
            "6 6 6 6\n",
            "\n",
            "El robot encontró su objetivo en 6 movimientos. Y tuvo un desplazamiento de (3, 3).\n",
            "Moves:\n",
            "up: 3\n",
            "down: 0\n",
            "left: 0\n",
            "right: 3\n"
          ]
        }
      ]
    },
    {
      "cell_type": "markdown",
      "source": [
        "##Conclusion\n",
        "Estuvo curioso la experiencia ya que la implementación tiene fragmentos con codigo extra a favor de cumplir con los requisitos. Pero está genial poder jugar con el lenguaje para cumplir con lo que se te pide ya que funciona como una actividad de exploración muy buena.\n",
        "\n",
        "En mi persona ya tengo conocimientos de Python intermedio-avanzado por lo que fui un poco más allá implementando una clase y haciendo una aplicación un poco más rica y divertida de hacer."
      ],
      "metadata": {
        "id": "hSe-AfnGqjOk"
      }
    }
  ]
}