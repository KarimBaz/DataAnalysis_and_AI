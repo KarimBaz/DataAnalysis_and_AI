{
  "cells": [
    {
      "cell_type": "markdown",
      "metadata": {
        "colab_type": "text",
        "id": "view-in-github"
      },
      "source": [
        "<a href=\"https://colab.research.google.com/github/magotronico/DataAnalysis_and_AI/blob/main/IrisCalssifier.ipynb\" target=\"_parent\"><img src=\"https://colab.research.google.com/assets/colab-badge.svg\" alt=\"Open In Colab\"/></a>"
      ]
    },
    {
      "cell_type": "markdown",
      "metadata": {
        "id": "VoNRdKYVIK5-"
      },
      "source": [
        "Este codigo hace la clasificacion de 3 species de iris...\n",
        "\n",
        "Equipo 2"
      ]
    },
    {
      "cell_type": "code",
      "execution_count": 2,
      "metadata": {
        "colab": {
          "base_uri": "https://localhost:8080/"
        },
        "id": "hmfrUWOyyLf5",
        "outputId": "d2420661-82cf-479b-a349-f01628cea019"
      },
      "outputs": [
        {
          "name": "stdout",
          "output_type": "stream",
          "text": [
            "Species: Iris-setosa\n",
            "  param_1:\n",
            "    Correctly classified: 31\n",
            "    Incorrectly classified: 19\n",
            "  param_2:\n",
            "    Correctly classified: 32\n",
            "    Incorrectly classified: 18\n",
            "  param_3:\n",
            "    Correctly classified: 40\n",
            "    Incorrectly classified: 10\n",
            "  param_4:\n",
            "    Correctly classified: 35\n",
            "    Incorrectly classified: 15\n",
            "  Total Correctly classified: 138\n",
            "  Total Incorrectly classified: 62\n",
            "  Total: 200\n",
            "\n",
            "Species: Iris-versicolor\n",
            "  param_1:\n",
            "    Correctly classified: 35\n",
            "    Incorrectly classified: 15\n",
            "  param_2:\n",
            "    Correctly classified: 33\n",
            "    Incorrectly classified: 17\n",
            "  param_3:\n",
            "    Correctly classified: 37\n",
            "    Incorrectly classified: 13\n",
            "  param_4:\n",
            "    Correctly classified: 35\n",
            "    Incorrectly classified: 15\n",
            "  Total Correctly classified: 140\n",
            "  Total Incorrectly classified: 60\n",
            "  Total: 200\n",
            "\n",
            "Species: Iris-virginica\n",
            "  param_1:\n",
            "    Correctly classified: 35\n",
            "    Incorrectly classified: 15\n",
            "  param_2:\n",
            "    Correctly classified: 35\n",
            "    Incorrectly classified: 15\n",
            "  param_3:\n",
            "    Correctly classified: 35\n",
            "    Incorrectly classified: 15\n",
            "  param_4:\n",
            "    Correctly classified: 39\n",
            "    Incorrectly classified: 11\n",
            "  Total Correctly classified: 144\n",
            "  Total Incorrectly classified: 56\n",
            "  Total: 200\n",
            "\n"
          ]
        }
      ],
      "source": [
        "import csv\n",
        "import math\n",
        "import random\n",
        "\n",
        "def get_species(df):\n",
        "    species = []\n",
        "    for row in df:\n",
        "        if row[4] not in species:\n",
        "            species.append(row[4])\n",
        "    return species\n",
        "\n",
        "def calculate_mean(values):\n",
        "    return sum(values) / len(values)\n",
        "\n",
        "def calculate_std_dev(values, mean):\n",
        "    variance = sum((x - mean) ** 2 for x in values) / (len(values) - 1)\n",
        "    return math.sqrt(variance)\n",
        "\n",
        "def calculate_mean_std(values):\n",
        "    mean = calculate_mean(values)\n",
        "    std_dev = calculate_std_dev(values, mean)\n",
        "    return mean, std_dev\n",
        "\n",
        "def range_per_species(df, species_list):\n",
        "    ranges = {}\n",
        "    for species in species_list:\n",
        "        species_ranges = {}\n",
        "        for i in range(4):  # 4 parameters (sepal length, sepal width, petal length, petal width)\n",
        "            values = [float(row[i]) for row in df if row[4] == species]\n",
        "            mean, std_dev = calculate_mean_std(values)\n",
        "            species_ranges[f'param_{i+1}'] = (mean - std_dev, mean + std_dev)\n",
        "        ranges[species] = species_ranges\n",
        "    return ranges\n",
        "\n",
        "def evaluate_classification(df, species_ranges):\n",
        "    results = {species: {f'param_{i+1}': {\"correct\": 0, \"incorrect\": 0} for i in range(4)} for species in species_ranges}\n",
        "    for row in df:\n",
        "        actual_species = row[4]\n",
        "        for i in range(4):  # 4 parameters\n",
        "            param_range = species_ranges[actual_species][f'param_{i+1}']\n",
        "            if param_range[0] <= float(row[i]) <= param_range[1]:\n",
        "                results[actual_species][f'param_{i+1}'][\"correct\"] += 1\n",
        "            else:\n",
        "                results[actual_species][f'param_{i+1}'][\"incorrect\"] += 1\n",
        "    return results\n",
        "\n",
        "def print_results(results):\n",
        "    for species, params in results.items():\n",
        "        print(f\"Species: {species}\")\n",
        "        for param, counts in params.items():\n",
        "            print(f\"  {param}:\")\n",
        "            print(f\"    Correctly classified: {counts['correct']}\")\n",
        "            print(f\"    Incorrectly classified: {counts['incorrect']}\")\n",
        "        total_correct = sum(counts['correct'] for counts in params.values())\n",
        "        total_incorrect = sum(counts['incorrect'] for counts in params.values())\n",
        "        print(f\"  Total Correctly classified: {total_correct}\")\n",
        "        print(f\"  Total Incorrectly classified: {total_incorrect}\")\n",
        "        print(f\"  Total: {total_correct + total_incorrect}\\n\")\n",
        "\n",
        "if __name__ == '__main__':\n",
        "    df = []\n",
        "\n",
        "    with open('Iris.csv', newline='') as csvfile:\n",
        "        spamreader = csv.reader(csvfile, delimiter=',', quotechar='|')\n",
        "        next(spamreader)  # Skip the header row\n",
        "        for row in spamreader:\n",
        "            df.append(row[1:])\n",
        "\n",
        "    species_list = get_species(df)\n",
        "    species_ranges = range_per_species(df, species_list)\n",
        "    results = evaluate_classification(df, species_ranges)\n",
        "    print_results(results)\n"
      ]
    },
    {
      "cell_type": "markdown",
      "metadata": {
        "id": "OqJY2uPsIOSG"
      },
      "source": [
        "Aqui se observa que los parametros con mayor cantidad de clasificados correctos se reptiten entre las species y se ordenan de mayor a menor como:\n",
        "\n",
        "Les pusimos pesos arbitrarios de:\n",
        "\n",
        "\n",
        "definimos un umbral de 65% arbitrario que en el futuro mejorara al aprender mejores tecnicas"
      ]
    },
    {
      "cell_type": "code",
      "execution_count": 4,
      "metadata": {
        "colab": {
          "base_uri": "https://localhost:8080/"
        },
        "id": "Tc6e4o_11OuW",
        "outputId": "96498bdb-1bd9-48eb-f15e-1a4a1c227c89"
      },
      "outputs": [
        {
          "name": "stdout",
          "output_type": "stream",
          "text": [
            "Number of Correctly Classified Records: 67\n",
            "Number of Incorrectly Classified Records: 33\n",
            "Confiability: 67.00%\n"
          ]
        }
      ],
      "source": [
        "def test_random_records(df, species_ranges, num_records=100, umbral=0.65):\n",
        "  random_records = random.sample(df, min(num_records, len(df)))\n",
        "\n",
        "  # Define weights\n",
        "  weights = {\n",
        "      'param_1': 0.17,\n",
        "      'param_2': 0.13,\n",
        "      'param_3': 0.38,\n",
        "      'param_4': 0.32\n",
        "  }\n",
        "\n",
        "  correct_count = 0\n",
        "  incorrect_count = 0\n",
        "\n",
        "  for record in random_records:\n",
        "      species = record[4]\n",
        "      if species not in species_ranges:\n",
        "          continue\n",
        "\n",
        "      weighted_score = 0\n",
        "      total_weight = 0\n",
        "\n",
        "      for i in range(4):  # 4 parameters\n",
        "          param_key = f'param_{i+1}'\n",
        "          param_value = float(record[i])\n",
        "          param_range = species_ranges[species][param_key]\n",
        "\n",
        "          if param_range[0] <= param_value <= param_range[1]:\n",
        "              weighted_score += weights[param_key]\n",
        "\n",
        "          total_weight += weights[param_key]\n",
        "\n",
        "      score_percentage = weighted_score / total_weight\n",
        "\n",
        "      if score_percentage >= umbral:\n",
        "          correct_count += 1\n",
        "      else:\n",
        "          incorrect_count += 1\n",
        "\n",
        "  total_records = correct_count + incorrect_count\n",
        "  confiability = (correct_count / total_records) * 100 if total_records > 0 else 0\n",
        "\n",
        "  print(f\"Number of Correctly Classified Records: {correct_count}\")\n",
        "  print(f\"Number of Incorrectly Classified Records: {incorrect_count}\")\n",
        "  print(f\"Confiability: {confiability:.2f}%\")\n",
        "\n",
        "if __name__ == '__main__':\n",
        "  df = []\n",
        "\n",
        "  with open('Iris.csv', newline='') as csvfile:\n",
        "      spamreader = csv.reader(csvfile, delimiter=',', quotechar='|')\n",
        "      next(spamreader)  # Skip the header row\n",
        "      for row in spamreader:\n",
        "          df.append(row[1:])\n",
        "\n",
        "  species_list = get_species(df)\n",
        "  species_ranges = range_per_species(df, species_list)\n",
        "  results = evaluate_classification(df, species_ranges)\n",
        "\n",
        "  # Test 100 random records\n",
        "  test_random_records(df, species_ranges)"
      ]
    }
  ],
  "metadata": {
    "colab": {
      "include_colab_link": true,
      "provenance": []
    },
    "kernelspec": {
      "display_name": "Python 3",
      "name": "python3"
    },
    "language_info": {
      "codemirror_mode": {
        "name": "ipython",
        "version": 3
      },
      "file_extension": ".py",
      "mimetype": "text/x-python",
      "name": "python",
      "nbconvert_exporter": "python",
      "pygments_lexer": "ipython3",
      "version": "3.11.9"
    }
  },
  "nbformat": 4,
  "nbformat_minor": 0
}
